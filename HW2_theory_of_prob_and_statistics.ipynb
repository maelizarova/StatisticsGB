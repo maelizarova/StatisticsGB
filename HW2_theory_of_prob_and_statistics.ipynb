{
 "cells": [
  {
   "cell_type": "markdown",
   "metadata": {},
   "source": [
    "## Домашнее задание к уроку \"Урок 2. Дискретные случайные величины. Закон распределения вероятностей. Биномиальный закон распределения. Распределение Пуассона\""
   ]
  },
  {
   "cell_type": "code",
   "execution_count": 1,
   "metadata": {},
   "outputs": [],
   "source": [
    "from math import factorial\n",
    "from math import exp"
   ]
  },
  {
   "cell_type": "code",
   "execution_count": 2,
   "metadata": {},
   "outputs": [],
   "source": [
    "# Сочетание\n",
    "def combinations(n, k):\n",
    "    return int( factorial(n) / (factorial(k) * factorial(n - k)) )"
   ]
  },
  {
   "cell_type": "code",
   "execution_count": 3,
   "metadata": {},
   "outputs": [],
   "source": [
    "# Формула Бернулли\n",
    "# Pn(X=k) = C(n, k) * p**k * q**(n − k), q = 1 - n\n",
    "# p - вероятность наступления события\n",
    "# n - общее количество испытаний\n",
    "# k - количество испытаний с наступившим событием\n",
    "def bernoulli(p, n, k):\n",
    "    return combinations(n, k) * (p ** k) * ((1 - p) ** (n - k))"
   ]
  },
  {
   "cell_type": "code",
   "execution_count": 4,
   "metadata": {},
   "outputs": [],
   "source": [
    "# Формула Пуассона\n",
    "# p - вероятность наступления события\n",
    "# n - общее количество испытаний\n",
    "# m - количество испытаний с наступившим событием\n",
    "# Pm ≈ (λ**m / m!) * e**(−λ), λ = n*p\n",
    "def poisson(p, n, m):\n",
    "    l = n * p\n",
    "    return (l**m / factorial(m)) * exp(-l)"
   ]
  },
  {
   "cell_type": "markdown",
   "metadata": {},
   "source": [
    "**1\\. Вероятность того, что стрелок попадет в мишень, выстрелив один раз, равна 0.8. Стрелок выстрелил 100 раз. Найдите вероятность того, что стрелок попадет в цель ровно 85 раз.**"
   ]
  },
  {
   "cell_type": "code",
   "execution_count": 5,
   "metadata": {},
   "outputs": [
    {
     "data": {
      "text/plain": [
       "0.048061793700746355"
      ]
     },
     "execution_count": 5,
     "metadata": {},
     "output_type": "execute_result"
    }
   ],
   "source": [
    "# значение наступления событий счётное, большая вероятность наступления события, число испытаний небольшое\n",
    "# для решения выбираем формулу Бернулли\n",
    "P = bernoulli(0.8, 100, 85)\n",
    "P"
   ]
  },
  {
   "cell_type": "markdown",
   "metadata": {},
   "source": [
    "**2\\. Вероятность того, что лампочка перегорит в течение первого дня эксплуатации, равна 0.0004. В жилом комплексе после ремонта в один день включили 5000 новых лампочек. Какова вероятность, что ни одна из них не перегорит в первый день?**"
   ]
  },
  {
   "cell_type": "code",
   "execution_count": 6,
   "metadata": {},
   "outputs": [
    {
     "data": {
      "text/plain": [
       "0.1353352832366127"
      ]
     },
     "execution_count": 6,
     "metadata": {},
     "output_type": "execute_result"
    }
   ],
   "source": [
    "# значение наступления событий счётное, очень маленькая вероятность наступления события, большое количество испытаний\n",
    "# для решения выбираем формулу Пуассона\n",
    "P = poisson(0.0004, 5000, 0)\n",
    "P"
   ]
  },
  {
   "cell_type": "markdown",
   "metadata": {},
   "source": [
    "**2\\. Вероятность того, что лампочка перегорит в течение первого дня эксплуатации, равна 0.0004. В жилом комплексе после ремонта в один день включили 5000 новых лампочек. Какова вероятность, что перегорят ровно две?**"
   ]
  },
  {
   "cell_type": "code",
   "execution_count": 7,
   "metadata": {},
   "outputs": [
    {
     "data": {
      "text/plain": [
       "0.2706705664732254"
      ]
     },
     "execution_count": 7,
     "metadata": {},
     "output_type": "execute_result"
    }
   ],
   "source": [
    "# значение наступления событий счётное, очень маленькая вероятность наступления события, большое количество испытаний\n",
    "# для решения выбираем формулу Пуассона\n",
    "P = poisson(0.0004, 5000, 2)\n",
    "P"
   ]
  },
  {
   "cell_type": "markdown",
   "metadata": {},
   "source": [
    "**3\\. Монету подбросили 144 раза. Какова вероятность, что орел выпадет ровно 70 раз?**"
   ]
  },
  {
   "cell_type": "code",
   "execution_count": 8,
   "metadata": {},
   "outputs": [
    {
     "data": {
      "text/plain": [
       "0.5"
      ]
     },
     "execution_count": 8,
     "metadata": {},
     "output_type": "execute_result"
    }
   ],
   "source": [
    "# вероятность того, что монета упадёт орлом вверх\n",
    "p = 0.5\n",
    "p"
   ]
  },
  {
   "cell_type": "code",
   "execution_count": 9,
   "metadata": {},
   "outputs": [
    {
     "data": {
      "text/plain": [
       "0.06281178035144776"
      ]
     },
     "execution_count": 9,
     "metadata": {},
     "output_type": "execute_result"
    }
   ],
   "source": [
    "# значение наступления событий счётное, большая вероятность наступления события, число испытаний небольшое\n",
    "# для решения выбираем формулу Бернулли\n",
    "P = bernoulli(p, 144, 70)\n",
    "P"
   ]
  },
  {
   "cell_type": "markdown",
   "metadata": {},
   "source": [
    "**4\\. В первом ящике находится 10 мячей, из которых 7 - белые. Во втором ящике - 11 мячей, из которых 9 белых. Из каждого ящика вытаскивают случайным образом по два мяча. Какова вероятность того, что все мячи белые?**"
   ]
  },
  {
   "cell_type": "code",
   "execution_count": 10,
   "metadata": {},
   "outputs": [],
   "source": [
    "n1 = 10 # количество мячей в первом ящике\n",
    "n2 = 11 # количество мячей во втором ящике\n",
    "k1 = 7 # количество белых мячей в первом ящике\n",
    "k2 = 9 # количество белых мячей во втором ящике"
   ]
  },
  {
   "cell_type": "code",
   "execution_count": 11,
   "metadata": {},
   "outputs": [
    {
     "data": {
      "text/plain": [
       "756"
      ]
     },
     "execution_count": 11,
     "metadata": {},
     "output_type": "execute_result"
    }
   ],
   "source": [
    "# количество способов достать по 2 белых мяча из первого ящика и из второго ящика - благоприятные исходы - 2:0 / 2:0\n",
    "C1 = combinations(k1, 2) * combinations(k2, 2)\n",
    "C1"
   ]
  },
  {
   "cell_type": "code",
   "execution_count": 12,
   "metadata": {},
   "outputs": [
    {
     "data": {
      "text/plain": [
       "2475"
      ]
     },
     "execution_count": 12,
     "metadata": {},
     "output_type": "execute_result"
    }
   ],
   "source": [
    "# общее количество исходов вытаскивания 2 мячей из первого ящика и 2 мячей из второго ящика\n",
    "Cn = combinations(n1, 2) * combinations(n2, 2)\n",
    "Cn"
   ]
  },
  {
   "cell_type": "code",
   "execution_count": 13,
   "metadata": {
    "scrolled": false
   },
   "outputs": [
    {
     "data": {
      "text/plain": [
       "0.3054545454545455"
      ]
     },
     "execution_count": 13,
     "metadata": {},
     "output_type": "execute_result"
    }
   ],
   "source": [
    "# вероятность того, что все 4 вытащенных мяча белые\n",
    "P1 = C1 / Cn\n",
    "P1"
   ]
  },
  {
   "cell_type": "code",
   "execution_count": 14,
   "metadata": {},
   "outputs": [],
   "source": [
    "# 2-ой способ: последовательно вытаскивать мячи"
   ]
  },
  {
   "cell_type": "code",
   "execution_count": 15,
   "metadata": {},
   "outputs": [
    {
     "data": {
      "text/plain": [
       "0.3054545454545454"
      ]
     },
     "execution_count": 15,
     "metadata": {},
     "output_type": "execute_result"
    }
   ],
   "source": [
    "# вероятность того, что все 4 вытащенных мяча белые\n",
    "P_1 = 7/10 * 6/9 * 9/11 * 8/10\n",
    "P_1"
   ]
  },
  {
   "cell_type": "markdown",
   "metadata": {},
   "source": [
    "**4\\. В первом ящике находится 10 мячей, из которых 7 - белые. Во втором ящике - 11 мячей, из которых 9 белых. Из каждого ящика вытаскивают случайным образом по два мяча. Какова вероятность того, что ровно два мяча белые?**"
   ]
  },
  {
   "cell_type": "code",
   "execution_count": 16,
   "metadata": {},
   "outputs": [
    {
     "data": {
      "text/plain": [
       "21"
      ]
     },
     "execution_count": 16,
     "metadata": {},
     "output_type": "execute_result"
    }
   ],
   "source": [
    "# количество способов достать 2 белых мяча из первого ящика и 2 оставшихся мяча - не белыx - из второго ящика - 2:0 / 0:2\n",
    "C2 = combinations(k1, 2) * combinations(n2 - k2, 2)\n",
    "C2"
   ]
  },
  {
   "cell_type": "code",
   "execution_count": 17,
   "metadata": {},
   "outputs": [
    {
     "data": {
      "text/plain": [
       "108"
      ]
     },
     "execution_count": 17,
     "metadata": {},
     "output_type": "execute_result"
    }
   ],
   "source": [
    "# количество способов достать 2 белых мяча из второго ящика и 2 оставшихся мяча - не белыx - из первого ящика - 0:2 / 2:0\n",
    "C3 = combinations(k2, 2) * combinations(n1 - k1, 2)\n",
    "C3"
   ]
  },
  {
   "cell_type": "code",
   "execution_count": 18,
   "metadata": {},
   "outputs": [
    {
     "data": {
      "text/plain": [
       "378"
      ]
     },
     "execution_count": 18,
     "metadata": {},
     "output_type": "execute_result"
    }
   ],
   "source": [
    "# 1:1 / 1:1\n",
    "C4 = combinations(k1, 1) * combinations(n1 - k1, 1) * combinations(k2, 1) * combinations(n2 - k2, 1)\n",
    "C4"
   ]
  },
  {
   "cell_type": "code",
   "execution_count": 19,
   "metadata": {
    "scrolled": true
   },
   "outputs": [
    {
     "data": {
      "text/plain": [
       "507"
      ]
     },
     "execution_count": 19,
     "metadata": {},
     "output_type": "execute_result"
    }
   ],
   "source": [
    "# благоприятные исходы - 2 белых мяча из одной из корзин и 2 не белых из другой \n",
    "# или по одному белому и не белому мячу из каждой из корзин\n",
    "C5 = C2 + C3 + C4\n",
    "C5"
   ]
  },
  {
   "cell_type": "code",
   "execution_count": 20,
   "metadata": {
    "scrolled": false
   },
   "outputs": [
    {
     "data": {
      "text/plain": [
       "0.20484848484848484"
      ]
     },
     "execution_count": 20,
     "metadata": {},
     "output_type": "execute_result"
    }
   ],
   "source": [
    "# вероятность того, что 2 мяча будут белыми\n",
    "P2 = C5 / Cn\n",
    "P2"
   ]
  },
  {
   "cell_type": "code",
   "execution_count": 21,
   "metadata": {},
   "outputs": [],
   "source": [
    "# 2-ой способ: последовательно вытаскивать нужные мячи"
   ]
  },
  {
   "cell_type": "code",
   "execution_count": 22,
   "metadata": {},
   "outputs": [
    {
     "data": {
      "text/plain": [
       "0.20484848484848484"
      ]
     },
     "execution_count": 22,
     "metadata": {},
     "output_type": "execute_result"
    }
   ],
   "source": [
    "# вероятность того, что 2 мяча будут белыми\n",
    "P_2 = 7/10 * 6/9 * 2/11 * 1/10 + \\\n",
    "      7/10 * 3/9 * 9/11 * 2/10 + \\\n",
    "      3/10 * 7/9 * 2/11 * 9/10 + \\\n",
    "      3/10 * 2/9 * 9/11 * 8/10 + \\\n",
    "      3/10 * 7/9 * 9/11 * 2/10 + \\\n",
    "      7/10 * 3/9 * 2/11 * 9/10\n",
    "P_2"
   ]
  },
  {
   "cell_type": "markdown",
   "metadata": {},
   "source": [
    "**4\\. В первом ящике находится 10 мячей, из которых 7 - белые. Во втором ящике - 11 мячей, из которых 9 белых. Из каждого ящика вытаскивают случайным образом по два мяча. Какова вероятность того, что хотя бы один мяч белый?**"
   ]
  },
  {
   "cell_type": "code",
   "execution_count": 23,
   "metadata": {},
   "outputs": [],
   "source": [
    "# осталось выяснить, сколько будет комбинаций для 3 белых мячей и для одного белого мяча из вытащенных 4"
   ]
  },
  {
   "cell_type": "code",
   "execution_count": 24,
   "metadata": {},
   "outputs": [
    {
     "data": {
      "text/plain": [
       "378"
      ]
     },
     "execution_count": 24,
     "metadata": {},
     "output_type": "execute_result"
    }
   ],
   "source": [
    "# 2:0 / 1:1\n",
    "C6 = combinations(k1, 2) * combinations(k2, 1) * combinations(n2 - k2, 1)\n",
    "C6"
   ]
  },
  {
   "cell_type": "code",
   "execution_count": 25,
   "metadata": {},
   "outputs": [
    {
     "data": {
      "text/plain": [
       "756"
      ]
     },
     "execution_count": 25,
     "metadata": {},
     "output_type": "execute_result"
    }
   ],
   "source": [
    "# 1:1 / 2:0\n",
    "C7 = combinations(k1, 1) * combinations(n1 - k1, 1) * combinations(k2, 2)\n",
    "C7"
   ]
  },
  {
   "cell_type": "code",
   "execution_count": 26,
   "metadata": {},
   "outputs": [
    {
     "data": {
      "text/plain": [
       "21"
      ]
     },
     "execution_count": 26,
     "metadata": {},
     "output_type": "execute_result"
    }
   ],
   "source": [
    "# 1:1 / 0:2\n",
    "C8 = combinations(k1, 1) * combinations(n1 - k1, 1) * combinations(n2 - k2, 2)\n",
    "C8"
   ]
  },
  {
   "cell_type": "code",
   "execution_count": 27,
   "metadata": {},
   "outputs": [
    {
     "data": {
      "text/plain": [
       "54"
      ]
     },
     "execution_count": 27,
     "metadata": {},
     "output_type": "execute_result"
    }
   ],
   "source": [
    "# 0:2 / 1:1\n",
    "C9 = combinations(n1 - k1, 2) * combinations(k2, 1) * combinations(n2 - k2, 1)\n",
    "C9"
   ]
  },
  {
   "cell_type": "code",
   "execution_count": 28,
   "metadata": {},
   "outputs": [
    {
     "data": {
      "text/plain": [
       "2472"
      ]
     },
     "execution_count": 28,
     "metadata": {},
     "output_type": "execute_result"
    }
   ],
   "source": [
    "# благоприятные исходы\n",
    "C = C1 + C5 + C6 + C7 + C8 + C9\n",
    "C"
   ]
  },
  {
   "cell_type": "code",
   "execution_count": 29,
   "metadata": {},
   "outputs": [
    {
     "data": {
      "text/plain": [
       "2475"
      ]
     },
     "execution_count": 29,
     "metadata": {},
     "output_type": "execute_result"
    }
   ],
   "source": [
    "# общее число исходов\n",
    "Cn"
   ]
  },
  {
   "cell_type": "code",
   "execution_count": 30,
   "metadata": {
    "scrolled": true
   },
   "outputs": [
    {
     "data": {
      "text/plain": [
       "0.9987878787878788"
      ]
     },
     "execution_count": 30,
     "metadata": {},
     "output_type": "execute_result"
    }
   ],
   "source": [
    "# вероятность того, что хотя бы один из 4 вытащенных мячей будет белым\n",
    "P3 = C / Cn\n",
    "P3"
   ]
  },
  {
   "cell_type": "code",
   "execution_count": 31,
   "metadata": {},
   "outputs": [],
   "source": [
    "# 2-ой способ: сначала вычислить неблагоприятные исходы"
   ]
  },
  {
   "cell_type": "code",
   "execution_count": 32,
   "metadata": {},
   "outputs": [
    {
     "data": {
      "text/plain": [
       "3"
      ]
     },
     "execution_count": 32,
     "metadata": {},
     "output_type": "execute_result"
    }
   ],
   "source": [
    "# количество неблагоприятных исходов\n",
    "C_1 = combinations(n1 - k1, 2) * combinations(n2 - k2, 2)\n",
    "C_1"
   ]
  },
  {
   "cell_type": "code",
   "execution_count": 33,
   "metadata": {},
   "outputs": [
    {
     "data": {
      "text/plain": [
       "2472"
      ]
     },
     "execution_count": 33,
     "metadata": {},
     "output_type": "execute_result"
    }
   ],
   "source": [
    "# количество благоприятных исходов\n",
    "C_2 = Cn - C_1\n",
    "C_2"
   ]
  },
  {
   "cell_type": "code",
   "execution_count": 34,
   "metadata": {
    "scrolled": true
   },
   "outputs": [
    {
     "data": {
      "text/plain": [
       "0.9987878787878788"
      ]
     },
     "execution_count": 34,
     "metadata": {},
     "output_type": "execute_result"
    }
   ],
   "source": [
    "# вероятность того, что хотя бы один из 4 вытащенных мячей будет белым\n",
    "P_3 = C_2 / Cn\n",
    "P_3"
   ]
  },
  {
   "cell_type": "code",
   "execution_count": 35,
   "metadata": {},
   "outputs": [],
   "source": [
    "# 3-ий способ: через последовательный выбор мячей"
   ]
  },
  {
   "cell_type": "code",
   "execution_count": 36,
   "metadata": {},
   "outputs": [
    {
     "data": {
      "text/plain": [
       "0.0012121212121212121"
      ]
     },
     "execution_count": 36,
     "metadata": {},
     "output_type": "execute_result"
    }
   ],
   "source": [
    "# вероятность того, что все вытащенные мячи не будут белыми\n",
    "P = 3/10 * 2/9 * 2/11 * 1/10\n",
    "P"
   ]
  },
  {
   "cell_type": "code",
   "execution_count": 37,
   "metadata": {},
   "outputs": [
    {
     "data": {
      "text/plain": [
       "0.9987878787878788"
      ]
     },
     "execution_count": 37,
     "metadata": {},
     "output_type": "execute_result"
    }
   ],
   "source": [
    "# вероятность того, что хотя бы один вытащенный мяч будет белым\n",
    "P_3 = 1 - P\n",
    "P_3"
   ]
  }
 ],
 "metadata": {
  "kernelspec": {
   "display_name": "Python 3",
   "language": "python",
   "name": "python3"
  },
  "language_info": {
   "codemirror_mode": {
    "name": "ipython",
    "version": 3
   },
   "file_extension": ".py",
   "mimetype": "text/x-python",
   "name": "python",
   "nbconvert_exporter": "python",
   "pygments_lexer": "ipython3",
   "version": "3.7.4"
  }
 },
 "nbformat": 4,
 "nbformat_minor": 2
}
